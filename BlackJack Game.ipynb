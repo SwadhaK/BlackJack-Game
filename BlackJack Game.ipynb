{
 "cells": [
  {
   "cell_type": "markdown",
   "id": "c4cb28ca",
   "metadata": {},
   "source": [
    "## BlackJack Game"
   ]
  },
  {
   "cell_type": "markdown",
   "id": "66f25162",
   "metadata": {},
   "source": [
    "To play a hand of Blackjack the following steps must be followed:\n",
    "\n",
    "1. Create a deck of 52 cards\n",
    "2. Shuffle the deck\n",
    "3. Ask the Player for their bet\n",
    "4. Make sure that the Player's bet does not exceed their available chips\n",
    "5. Deal two cards to the Dealer and two cards to the Player\n",
    "6. Show only one of the Dealer's cards, the other remains hidden\n",
    "7. Show both of the Player's cards\n",
    "8. Ask the Player if they wish to Hit, and take another card\n",
    "9. If the Player's hand doesn't Bust (go over 21), ask if they'd like to Hit again.\n",
    "10. If a Player Stands, play the Dealer's hand. The dealer will always Hit until the Dealer's value meets or exceeds 17\n",
    "11. Determine the winner and adjust the Player's chips accordingly\n",
    "12. Ask the Player if they'd like to play again"
   ]
  },
  {
   "cell_type": "code",
   "execution_count": 2,
   "id": "7a0ab0c0",
   "metadata": {},
   "outputs": [],
   "source": [
    "import random"
   ]
  },
  {
   "cell_type": "code",
   "execution_count": 3,
   "id": "42b2b8be",
   "metadata": {},
   "outputs": [],
   "source": [
    "suits=('Hearts', 'Diamonds', 'Spades', 'Clubs')\n",
    "ranks=('Two', 'Three', 'Four', 'Five', 'Six', 'Seven', 'Eight', 'Nine', 'Ten', 'Jack', 'Queen', 'King', 'Ace')\n",
    "values={'Two':2, 'Three':3, 'Four':4, 'Five':5, 'Six':6, 'Seven':7, 'Eight':8, \n",
    "            'Nine':9, 'Ten':10, 'Jack':11, 'Queen':12, 'King':13, 'Ace':14}"
   ]
  },
  {
   "cell_type": "code",
   "execution_count": 1,
   "id": "f010ad85",
   "metadata": {},
   "outputs": [],
   "source": [
    "#Card Class"
   ]
  },
  {
   "cell_type": "code",
   "execution_count": 4,
   "id": "79659aef",
   "metadata": {},
   "outputs": [],
   "source": [
    "class Cards():\n",
    "    \n",
    "    def __init__(self,suit,rank):\n",
    "        self.suit=suit\n",
    "        self.rank=rank\n",
    "        self.value=values[rank]\n",
    "    \n",
    "    def __str__(self):\n",
    "        return self.rank+' of '+self.suit\n",
    "    "
   ]
  },
  {
   "cell_type": "code",
   "execution_count": 5,
   "id": "6bbd80b6",
   "metadata": {},
   "outputs": [],
   "source": [
    "#Deck class"
   ]
  },
  {
   "cell_type": "code",
   "execution_count": 24,
   "id": "0829fcec",
   "metadata": {},
   "outputs": [],
   "source": [
    " class Deck():\n",
    "        \n",
    "        def __init__(self):\n",
    "            self.all_cards=[]\n",
    "            for suit in suits:\n",
    "                for rank in ranks:\n",
    "                    self.all_cards.append(Cards(suit,rank))\n",
    "        \n",
    "        def shuffle(self):\n",
    "            random.shuffle(self.all_cards)\n",
    "            \n",
    "        def deal(self):\n",
    "            return self.all_cards.pop()"
   ]
  },
  {
   "cell_type": "code",
   "execution_count": 7,
   "id": "dede2c1a",
   "metadata": {},
   "outputs": [],
   "source": [
    "test_deck=Deck()"
   ]
  },
  {
   "cell_type": "code",
   "execution_count": 8,
   "id": "d21ba160",
   "metadata": {},
   "outputs": [],
   "source": [
    "#HAND CLASS"
   ]
  },
  {
   "cell_type": "code",
   "execution_count": 28,
   "id": "1aa1505e",
   "metadata": {},
   "outputs": [],
   "source": [
    "class Hand():\n",
    "    \n",
    "    def __init__(self):\n",
    "        self.cards=[]\n",
    "        self.value=0\n",
    "        self.aces=0\n",
    "        \n",
    "    def add_card(self,card):\n",
    "        self.cards.append(card)\n",
    "        self.value += values[card.rank]\n",
    "        \n",
    "        if card.rank == 'Ace':\n",
    "            self.aces += 1\n",
    "        \n",
    "    def adjust_ace(self):\n",
    "        while self.value > 21 and self.aces>0:\n",
    "            self.value -= 10\n",
    "            self.aces -= 1\n",
    "        "
   ]
  },
  {
   "cell_type": "code",
   "execution_count": 10,
   "id": "548d61f2",
   "metadata": {},
   "outputs": [],
   "source": [
    "#CHIP CLASS"
   ]
  },
  {
   "cell_type": "code",
   "execution_count": 11,
   "id": "1e215671",
   "metadata": {},
   "outputs": [],
   "source": [
    "class Chip():\n",
    "    \n",
    "    def __init__(self,total):\n",
    "        self.total=100\n",
    "        self.bet=0\n",
    "        \n",
    "    def win_bet(self):\n",
    "        self.total += self.bet\n",
    "        \n",
    "    def lose_bet(self):\n",
    "        self.total -= self.bet"
   ]
  },
  {
   "cell_type": "code",
   "execution_count": 12,
   "id": "54669d32",
   "metadata": {},
   "outputs": [],
   "source": [
    "#BET FUNCTION"
   ]
  },
  {
   "cell_type": "code",
   "execution_count": 13,
   "id": "4eb39b57",
   "metadata": {},
   "outputs": [],
   "source": [
    "def take_bet(chips):\n",
    "    \n",
    "    while True:\n",
    "        try:\n",
    "            chips.bet=int(input('how many chips do you want too bet?  '))\n",
    "        except ValueError:\n",
    "            print('Sorry, a bet must be an integer!')\n",
    "        else:\n",
    "            if chips.bet > chips.total:\n",
    "                print(\"Sorry, your bet can't exceed\",chips.total)\n",
    "            else:\n",
    "                break\n",
    "    "
   ]
  },
  {
   "cell_type": "code",
   "execution_count": null,
   "id": "598efa77",
   "metadata": {},
   "outputs": [],
   "source": [
    " #Write a function for taking hits"
   ]
  },
  {
   "cell_type": "code",
   "execution_count": 14,
   "id": "1d0d115a",
   "metadata": {},
   "outputs": [],
   "source": [
    "def hit(deck,hand):\n",
    "    hand.add_card(deck.deal())\n",
    "    hand.adjust_ace()"
   ]
  },
  {
   "cell_type": "code",
   "execution_count": null,
   "id": "127b9380",
   "metadata": {},
   "outputs": [],
   "source": [
    "#write a function prompting the Player to Hit or Stand"
   ]
  },
  {
   "cell_type": "code",
   "execution_count": 15,
   "id": "2bc48050",
   "metadata": {},
   "outputs": [],
   "source": [
    "def hit_or_stand(deck,hand):\n",
    "    global playing\n",
    "    \n",
    "    while True:\n",
    "        x=input(\"would you like to hit or stand? Enter 'h' or 's' \")\n",
    "        \n",
    "        if x[0].lower() == 'h':\n",
    "            hit(deck,hand)\n",
    "            \n",
    "        elif x[0].lower() == 's':\n",
    "            print(\"Player stands. Dealer is playing.\")\n",
    "            playing= False\n",
    "            \n",
    "        else:\n",
    "            print('Sorry! Please try again')\n",
    "            continue\n",
    "        break\n"
   ]
  },
  {
   "cell_type": "code",
   "execution_count": 17,
   "id": "4ea06c0c",
   "metadata": {},
   "outputs": [],
   "source": [
    "#Write functions to display cards"
   ]
  },
  {
   "cell_type": "code",
   "execution_count": 18,
   "id": "c918f6c2",
   "metadata": {},
   "outputs": [],
   "source": [
    "def show_some(player,dealer):\n",
    "    print(\"\\nDealer's Hand:\")\n",
    "    print(\" <card hidden>\")\n",
    "    print('',dealer.cards[1])  \n",
    "    print(\"\\nPlayer's Hand:\", *player.cards, sep='\\n ')\n",
    "    \n",
    "def show_all(player,dealer):\n",
    "    print(\"\\nDealer's Hand:\", *dealer.cards, sep='\\n ')\n",
    "    print(\"Dealer's Hand =\",dealer.value)\n",
    "    print(\"\\nPlayer's Hand:\", *player.cards, sep='\\n ')\n",
    "    print(\"Player's Hand =\",player.value)"
   ]
  },
  {
   "cell_type": "code",
   "execution_count": null,
   "id": "32b40b34",
   "metadata": {},
   "outputs": [],
   "source": [
    "#Write functions to handle end of game scenarios"
   ]
  },
  {
   "cell_type": "code",
   "execution_count": 30,
   "id": "6e8f3961",
   "metadata": {},
   "outputs": [],
   "source": [
    "def player_busts(player,dealer,chips):\n",
    "    print('Player busts!')\n",
    "    chips.lose_bet()\n",
    "    \n",
    "def player_wins(player,dealer,chips):\n",
    "    print('Player wins!')\n",
    "    chips.win_bet()\n",
    "    \n",
    "def dealer_busts(player,dealer,chips):\n",
    "    print('Dealer busts!')\n",
    "    chips.win_bet()\n",
    "    \n",
    "def dealer_wins(player,dealer,chips):\n",
    "    print('Dealer wins!')\n",
    "    chips.lose_bet()\n",
    "    \n",
    "def push(player,dealer):\n",
    "    print(\"Dealer and Player tie! It's a push.\")"
   ]
  },
  {
   "cell_type": "code",
   "execution_count": null,
   "id": "605ccfe1",
   "metadata": {},
   "outputs": [],
   "source": [
    "#Game logic"
   ]
  },
  {
   "cell_type": "code",
   "execution_count": 32,
   "id": "bd137e19",
   "metadata": {},
   "outputs": [
    {
     "name": "stdout",
     "output_type": "stream",
     "text": [
      "Welcome to BlackJack game! Get as close to 21 as you can without going over!\n",
      "    Dealer hits until she reaches 17. Aces count as 1 or 11.\n",
      "how many chips do you want too bet?  40\n",
      "\n",
      "Dealer's Hand:\n",
      " <card hidden>\n",
      " Queen of Clubs\n",
      "\n",
      "Player's Hand:\n",
      " Three of Spades\n",
      " Eight of Clubs\n",
      "would you like to hit or stand? Enter 'h' or 's' h\n",
      "\n",
      "Dealer's Hand:\n",
      " <card hidden>\n",
      " Queen of Clubs\n",
      "\n",
      "Player's Hand:\n",
      " Three of Spades\n",
      " Eight of Clubs\n",
      " King of Diamonds\n",
      "Player busts!\n",
      "\n",
      "Player's winnings stand at 60\n",
      "Would you like to play another hand? Enter 'y' or 'n' y\n",
      "Welcome to BlackJack game! Get as close to 21 as you can without going over!\n",
      "    Dealer hits until she reaches 17. Aces count as 1 or 11.\n",
      "how many chips do you want too bet?  30\n",
      "\n",
      "Dealer's Hand:\n",
      " <card hidden>\n",
      " Four of Spades\n",
      "\n",
      "Player's Hand:\n",
      " Jack of Spades\n",
      " Three of Clubs\n",
      "would you like to hit or stand? Enter 'h' or 's' h\n",
      "\n",
      "Dealer's Hand:\n",
      " <card hidden>\n",
      " Four of Spades\n",
      "\n",
      "Player's Hand:\n",
      " Jack of Spades\n",
      " Three of Clubs\n",
      " Eight of Diamonds\n",
      "Player busts!\n",
      "\n",
      "Player's winnings stand at 70\n",
      "Would you like to play another hand? Enter 'y' or 'n' y\n",
      "Welcome to BlackJack game! Get as close to 21 as you can without going over!\n",
      "    Dealer hits until she reaches 17. Aces count as 1 or 11.\n",
      "how many chips do you want too bet?  20\n",
      "\n",
      "Dealer's Hand:\n",
      " <card hidden>\n",
      " Six of Diamonds\n",
      "\n",
      "Player's Hand:\n",
      " Four of Diamonds\n",
      " Two of Clubs\n",
      "would you like to hit or stand? Enter 'h' or 's' h\n",
      "\n",
      "Dealer's Hand:\n",
      " <card hidden>\n",
      " Six of Diamonds\n",
      "\n",
      "Player's Hand:\n",
      " Four of Diamonds\n",
      " Two of Clubs\n",
      " Two of Diamonds\n",
      "would you like to hit or stand? Enter 'h' or 's' h\n",
      "\n",
      "Dealer's Hand:\n",
      " <card hidden>\n",
      " Six of Diamonds\n",
      "\n",
      "Player's Hand:\n",
      " Four of Diamonds\n",
      " Two of Clubs\n",
      " Two of Diamonds\n",
      " Four of Spades\n",
      "would you like to hit or stand? Enter 'h' or 's' s\n",
      "Player stands. Dealer is playing.\n",
      "\n",
      "Dealer's Hand:\n",
      " <card hidden>\n",
      " Six of Diamonds\n",
      "\n",
      "Player's Hand:\n",
      " Four of Diamonds\n",
      " Two of Clubs\n",
      " Two of Diamonds\n",
      " Four of Spades\n",
      "\n",
      "Dealer's Hand:\n",
      " Ten of Clubs\n",
      " Six of Diamonds\n",
      " Ten of Diamonds\n",
      "Dealer's Hand = 26\n",
      "\n",
      "Player's Hand:\n",
      " Four of Diamonds\n",
      " Two of Clubs\n",
      " Two of Diamonds\n",
      " Four of Spades\n",
      "Player's Hand = 12\n",
      "Dealer busts!\n",
      "\n",
      "Player's winnings stand at 120\n",
      "Would you like to play another hand? Enter 'y' or 'n' n\n",
      "Thanks for playing!\n"
     ]
    }
   ],
   "source": [
    "while True:\n",
    "    #opening statement\n",
    "    print('Welcome to BlackJack game! Get as close to 21 as you can without going over!\\n\\\n",
    "    Dealer hits until she reaches 17. Aces count as 1 or 11.')\n",
    "    \n",
    "    #Create & shuffle deck,two cards to each player\n",
    "    deck = Deck()\n",
    "    deck.shuffle()\n",
    "    \n",
    "    player_hand= Hand()\n",
    "    player_hand.add_card(deck.deal())\n",
    "    player_hand.add_card(deck.deal())\n",
    "    \n",
    "    dealer_hand = Hand()\n",
    "    dealer_hand.add_card(deck.deal())\n",
    "    dealer_hand.add_card(deck.deal())\n",
    "    \n",
    "    #Player's chips\n",
    "    player_chips = Chip(100)\n",
    "    \n",
    "    # Prompt the Player for their bet\n",
    "    take_bet(player_chips)\n",
    "    \n",
    "    # Show cards(dealer card hidden)\n",
    "    show_some(player_hand,dealer_hand)\n",
    "    \n",
    "    playing=True\n",
    "    while playing:\n",
    "        \n",
    "        #Prompt for Player to Hit/Stand\n",
    "        hit_or_stand(deck,player_hand)\n",
    "        show_some(player_hand,dealer_hand)\n",
    "        \n",
    "        # If player's hand exceeds 21, run player_busts() and break out of loop\n",
    "        if player_hand.value > 21:\n",
    "            player_busts(player_hand,dealer_hand,player_chips)\n",
    "            break\n",
    "    \n",
    "    # If Player hasn't busted, play Dealer's hand until Dealer reaches 17 \n",
    "    if player_hand.value <=21:\n",
    "        \n",
    "        while dealer_hand.value < 17:\n",
    "            hit(deck,dealer_hand)\n",
    "        \n",
    "        show_all(player_hand,dealer_hand)\n",
    "        \n",
    "        #winning scenarios\n",
    "        if dealer_hand.value > 21:\n",
    "            dealer_busts(player_hand,dealer_hand,player_chips)\n",
    "\n",
    "        elif dealer_hand.value > player_hand.value:\n",
    "            dealer_wins(player_hand,dealer_hand,player_chips)\n",
    "\n",
    "        elif dealer_hand.value < player_hand.value:\n",
    "            player_wins(player_hand,dealer_hand,player_chips)\n",
    "\n",
    "        else:\n",
    "            push(player_hand,dealer_hand)\n",
    "            \n",
    "    \n",
    "    print(\"\\nPlayer's winnings stand at\",player_chips.total)\n",
    "    \n",
    "    ## Ask play again\n",
    "    new_game = input(\"Would you like to play another hand? Enter 'y' or 'n' \")\n",
    "    \n",
    "    if new_game[0].lower()=='y':\n",
    "        playing=True\n",
    "        continue\n",
    "    else:\n",
    "        print(\"Thanks for playing!\")\n",
    "        break\n",
    "    \n",
    "    "
   ]
  },
  {
   "cell_type": "markdown",
   "id": "cf2182a8",
   "metadata": {},
   "source": [
    "### END"
   ]
  },
  {
   "cell_type": "code",
   "execution_count": null,
   "id": "f7db0113",
   "metadata": {},
   "outputs": [],
   "source": []
  }
 ],
 "metadata": {
  "kernelspec": {
   "display_name": "Python 3 (ipykernel)",
   "language": "python",
   "name": "python3"
  },
  "language_info": {
   "codemirror_mode": {
    "name": "ipython",
    "version": 3
   },
   "file_extension": ".py",
   "mimetype": "text/x-python",
   "name": "python",
   "nbconvert_exporter": "python",
   "pygments_lexer": "ipython3",
   "version": "3.9.0"
  }
 },
 "nbformat": 4,
 "nbformat_minor": 5
}
